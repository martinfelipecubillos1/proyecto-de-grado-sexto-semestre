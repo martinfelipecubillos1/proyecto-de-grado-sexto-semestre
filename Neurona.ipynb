{
  "nbformat": 4,
  "nbformat_minor": 0,
  "metadata": {
    "colab": {
      "name": "Untitled0.ipynb",
      "provenance": [],
      "authorship_tag": "ABX9TyO6F/iiqSqqH46mMwmtkiq+",
      "include_colab_link": true
    },
    "kernelspec": {
      "name": "python3",
      "display_name": "Python 3"
    },
    "language_info": {
      "name": "python"
    }
  },
  "cells": [
    {
      "cell_type": "markdown",
      "metadata": {
        "id": "view-in-github",
        "colab_type": "text"
      },
      "source": [
        "<a href=\"https://colab.research.google.com/github/martinfelipecubillos1/proyecto-de-grado-sexto-semestre/blob/main/Neurona.ipynb\" target=\"_parent\"><img src=\"https://colab.research.google.com/assets/colab-badge.svg\" alt=\"Open In Colab\"/></a>"
      ]
    },
    {
      "cell_type": "markdown",
      "metadata": {
        "id": "1PiWsIXI83EA"
      },
      "source": [
        "**Red neuronal por Cindy Jireh Gianine Pachon del grupo 801**"
      ]
    },
    {
      "cell_type": "markdown",
      "metadata": {
        "id": "DTXYF1aF88uH"
      },
      "source": [
        "*Red entrenada para determinar el valor que toman los kilometros en millas*"
      ]
    },
    {
      "cell_type": "code",
      "metadata": {
        "id": "moTrGmf_9AEv"
      },
      "source": [
        "import tensorflow as tf\n",
        "import numpy as np"
      ],
      "execution_count": 1,
      "outputs": []
    },
    {
      "cell_type": "code",
      "metadata": {
        "id": "t_Hs2Vyq9CbW"
      },
      "source": [
        "Millas = np.array([0.621371, 6.21371,15.5343, 31.0686, 62.1371, 124.274, 310.686], dtype=float)\n",
        "Kilometros = np.array([1, 10, 25, 50, 100, 200, 500], dtype=float)"
      ],
      "execution_count": 2,
      "outputs": []
    },
    {
      "cell_type": "code",
      "metadata": {
        "id": "T7e2Z1pw9GB-"
      },
      "source": [
        "#capa_superior = tf.keras.layers.Dense(units=1, input_shape=[1])\n",
        "#modelo = tf.keras.Sequential([capa_superior])\n",
        "\n",
        "Capa_oculta1 = tf.keras.layers.Dense(units=3, input_shape=[1])\n",
        "Capa_oculta2 = tf.keras.layers.Dense(units=3)\n",
        "Capa_Final = tf.keras.layers.Dense(units=1)\n",
        "modelo = tf.keras.Sequential([Capa_oculta1, Capa_oculta2, Capa_Final])"
      ],
      "execution_count": 3,
      "outputs": []
    },
    {
      "cell_type": "code",
      "metadata": {
        "id": "IHlo7won9IqF"
      },
      "source": [
        "modelo.compile(\n",
        "    optimizer=tf.keras.optimizers.Adam(0.1),\n",
        "    loss='mean_squared_error'\n",
        ")"
      ],
      "execution_count": 4,
      "outputs": []
    },
    {
      "cell_type": "code",
      "metadata": {
        "colab": {
          "base_uri": "https://localhost:8080/"
        },
        "id": "TgIguXwe9Kk_",
        "outputId": "a4766991-11d2-4e47-a9b5-12889263b810"
      },
      "source": [
        "print(\"Comenzando entrenamiento...\")\n",
        "historial = modelo.fit(Kilometros, Millas, epochs=1000, verbose=False)\n",
        "print(\"Se entreno el modelo!\")"
      ],
      "execution_count": 5,
      "outputs": [
        {
          "output_type": "stream",
          "name": "stdout",
          "text": [
            "Comenzando entrenamiento...\n",
            "Se entreno el modelo!\n"
          ]
        }
      ]
    },
    {
      "cell_type": "code",
      "metadata": {
        "colab": {
          "base_uri": "https://localhost:8080/",
          "height": 296
        },
        "id": "ltYhDqzo9Nmn",
        "outputId": "b6420b69-ab89-47c4-a440-45f4809cb277"
      },
      "source": [
        "import matplotlib.pyplot as plt\n",
        "plt.xlabel(\"# Epoca\")\n",
        "plt.ylabel(\"Magnitud de pérdida\")\n",
        "plt.plot(historial.history[\"loss\"])"
      ],
      "execution_count": 6,
      "outputs": [
        {
          "output_type": "execute_result",
          "data": {
            "text/plain": [
              "[<matplotlib.lines.Line2D at 0x7f0787b73390>]"
            ]
          },
          "metadata": {},
          "execution_count": 6
        },
        {
          "output_type": "display_data",
          "data": {
            "image/png": "[encoded data removed]",
            "text/plain": [
              "<Figure size 432x288 with 1 Axes>"
            ]
          },
          "metadata": {
            "needs_background": "light"
          }
        }
      ]
    },
    {
      "cell_type": "code",
      "metadata": {
        "colab": {
          "base_uri": "https://localhost:8080/"
        },
        "id": "ZM2W4YBT9ReD",
        "outputId": "a5e86abc-3555-48cd-ce18-e5ef5df733f6"
      },
      "source": [
        "print(\"Hagamos una predicción de kilometros a millas!\")\n",
        "resultado = modelo.predict([75])\n",
        "print(\"El resultado es \" + str(resultado) + \" Millas\")"
      ],
      "execution_count": 7,
      "outputs": [
        {
          "output_type": "stream",
          "name": "stdout",
          "text": [
            "Hagamos una predicción de kilometros a millas!\n",
            "El resultado es [[46.602837]] Millas\n"
          ]
        }
      ]
    },
    {
      "cell_type": "code",
      "metadata": {
        "colab": {
          "base_uri": "https://localhost:8080/"
        },
        "id": "FFEVVL3y9Ts3",
        "outputId": "259a1182-8e18-449e-aaeb-bbe70747d6ca"
      },
      "source": [
        "print(\"Variables internas del modelo\")\n",
        "#print(capa_superior.get_weights())\n",
        "print(Capa_oculta1.get_weights())\n",
        "print(Capa_oculta2.get_weights())\n",
        "print(Capa_Final.get_weights())"
      ],
      "execution_count": 8,
      "outputs": [
        {
          "output_type": "stream",
          "name": "stdout",
          "text": [
            "Variables internas del modelo\n",
            "[array([[0.00772831, 0.80286413, 0.84986275]], dtype=float32), array([-0.18492386, -0.21337882, -0.30731907], dtype=float32)]\n",
            "[array([[ 0.0909431 , -0.6864562 , -0.44981545],\n",
            "       [-0.8054768 , -0.51084936, -0.26051393],\n",
            "       [ 0.20762873,  0.55275476, -0.6979563 ]], dtype=float32), array([ 0.02365685, -0.01451924, -0.04380991], dtype=float32)]\n",
            "[array([[-0.31832692],\n",
            "       [ 0.05373203],\n",
            "       [-0.5820165 ]], dtype=float32), array([0.21385804], dtype=float32)]\n"
          ]
        }
      ]
    },
    {
      "cell_type": "markdown",
      "metadata": {
        "id": "WC9YkMcx9ZPa"
      },
      "source": [
        "*Referencia para el desarrollo de la codificación: (https://www.youtube.com/watch?v=iX_on3VxZzk)*\n"
      ]
    }
  ]
}